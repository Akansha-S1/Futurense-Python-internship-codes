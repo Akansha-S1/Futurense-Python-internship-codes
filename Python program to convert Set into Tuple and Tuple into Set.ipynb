{
 "cells": [
  {
   "cell_type": "code",
   "execution_count": 1,
   "id": "e8600dd5-2ca3-44fb-b857-1b91a8ca9c5b",
   "metadata": {},
   "outputs": [
    {
     "name": "stdout",
     "output_type": "stream",
     "text": [
      "Set converted to Tuple: (1, 2, 3, 4, 5)\n",
      "Tuple converted to Set: {6, 7, 8, 9, 10}\n"
     ]
    }
   ],
   "source": [
    "def set_to_tuple(input_set):\n",
    "    return tuple(input_set)\n",
    "\n",
    "def tuple_to_set(input_tuple):\n",
    "    return set(input_tuple)\n",
    "\n",
    "sample_set = {1, 2, 3, 4, 5}\n",
    "sample_tuple = (6, 7, 8, 9, 10)\n",
    "\n",
    "converted_tuple = set_to_tuple(sample_set)\n",
    "print(\"Set converted to Tuple:\", converted_tuple)\n",
    "\n",
    "converted_set = tuple_to_set(sample_tuple)\n",
    "print(\"Tuple converted to Set:\", converted_set)\n"
   ]
  }
 ],
 "metadata": {
  "kernelspec": {
   "display_name": "Python 3 (ipykernel)",
   "language": "python",
   "name": "python3"
  },
  "language_info": {
   "codemirror_mode": {
    "name": "ipython",
    "version": 3
   },
   "file_extension": ".py",
   "mimetype": "text/x-python",
   "name": "python",
   "nbconvert_exporter": "python",
   "pygments_lexer": "ipython3",
   "version": "3.11.7"
  }
 },
 "nbformat": 4,
 "nbformat_minor": 5
}
